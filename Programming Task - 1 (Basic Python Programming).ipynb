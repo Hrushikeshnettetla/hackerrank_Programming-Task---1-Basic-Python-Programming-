{
 "cells": [
  {
   "cell_type": "code",
   "execution_count": 1,
   "id": "e504c577",
   "metadata": {},
   "outputs": [
    {
     "name": "stdout",
     "output_type": "stream",
     "text": [
      "Hello, World!\n"
     ]
    }
   ],
   "source": [
    "#1\n",
    "\n",
    "print(\"Hello, World!\")"
   ]
  },
  {
   "cell_type": "code",
   "execution_count": 2,
   "id": "8674b1bd",
   "metadata": {},
   "outputs": [
    {
     "name": "stdout",
     "output_type": "stream",
     "text": [
      "3\n",
      "123"
     ]
    }
   ],
   "source": [
    "#2\n",
    "n =int(input())\n",
    "for i in range(1,n+1):\n",
    "    print(i,end=\"\")"
   ]
  },
  {
   "cell_type": "code",
   "execution_count": 3,
   "id": "5b30eadd",
   "metadata": {},
   "outputs": [],
   "source": [
    "#3\n",
    "\n",
    "def is_leap_year(year):\n",
    "    if year % 4 == 0 and (year % 100 != 0 or year % 400 == 0):\n",
    "        return True\n",
    "    else:\n",
    "        return False"
   ]
  },
  {
   "cell_type": "code",
   "execution_count": 4,
   "id": "7383f910",
   "metadata": {},
   "outputs": [
    {
     "data": {
      "text/plain": [
       "True"
      ]
     },
     "execution_count": 4,
     "metadata": {},
     "output_type": "execute_result"
    }
   ],
   "source": [
    "is_leap_year(2000)"
   ]
  },
  {
   "cell_type": "code",
   "execution_count": 5,
   "id": "9d381db5",
   "metadata": {},
   "outputs": [
    {
     "data": {
      "text/plain": [
       "False"
      ]
     },
     "execution_count": 5,
     "metadata": {},
     "output_type": "execute_result"
    }
   ],
   "source": [
    "is_leap_year(2001)"
   ]
  },
  {
   "cell_type": "code",
   "execution_count": 6,
   "id": "fe1f1d9e",
   "metadata": {},
   "outputs": [
    {
     "data": {
      "text/plain": [
       "False"
      ]
     },
     "execution_count": 6,
     "metadata": {},
     "output_type": "execute_result"
    }
   ],
   "source": [
    "is_leap_year(2003)"
   ]
  },
  {
   "cell_type": "code",
   "execution_count": 7,
   "id": "594790d9",
   "metadata": {},
   "outputs": [
    {
     "data": {
      "text/plain": [
       "True"
      ]
     },
     "execution_count": 7,
     "metadata": {},
     "output_type": "execute_result"
    }
   ],
   "source": [
    "is_leap_year(2004)"
   ]
  },
  {
   "cell_type": "code",
   "execution_count": 8,
   "id": "dc1ba74c",
   "metadata": {},
   "outputs": [
    {
     "name": "stdout",
     "output_type": "stream",
     "text": [
      "3\n",
      "2\n",
      "1\n",
      "1.5\n"
     ]
    }
   ],
   "source": [
    "#4TAsk:The provided code stub reads two integers,a and b, from STDIN.Add logic to print two lines. The first line should contain the result of integer division, a // b. The second line should contain the result of float division,  a/ b.\n",
    "\n",
    "a = int(input())\n",
    "b = int(input())\n",
    "print(a//b)\n",
    "print(a/b)"
   ]
  },
  {
   "cell_type": "code",
   "execution_count": 9,
   "id": "384a07b7",
   "metadata": {},
   "outputs": [
    {
     "name": "stdout",
     "output_type": "stream",
     "text": [
      "5\n",
      "4\n",
      "9\n",
      "1\n",
      "20\n"
     ]
    }
   ],
   "source": [
    "#Task:5\n",
    "\n",
    "#The provided code stub reads two integers from STDIN,  and . Add code to print three lines where:\n",
    "#The first line contains the sum of the two numbers.\n",
    "#The second line contains the difference of the two numbers (first - second).\n",
    "#The third line contains the product of the two numbers.\n",
    "\n",
    "a = int(input())\n",
    "b = int(input())\n",
    "print(a+b)\n",
    "print(a-b)\n",
    "print(a*b)\n",
    "\n"
   ]
  },
  {
   "cell_type": "markdown",
   "id": "75760744",
   "metadata": {},
   "source": [
    "## task:6"
   ]
  },
  {
   "cell_type": "code",
   "execution_count": 14,
   "id": "a0f089b0",
   "metadata": {},
   "outputs": [
    {
     "name": "stdout",
     "output_type": "stream",
     "text": [
      "3\n",
      "Weird\n"
     ]
    }
   ],
   "source": [
    "#Given an integer, n, perform the following conditional actions:\n",
    "#If n  is odd, print Weird\n",
    "#If n  is even and in the inclusive range of 2 to 5 , print Not Weird\n",
    "#If n  is even and in the inclusive range of 6 to 10 , print Weird\n",
    "#If n  is even and greater than 20, print Not Weird\n",
    "\n",
    "n = int(input().strip())\n",
    "if n % 2 != 0:\n",
    "    print(\"Weird\")\n",
    "else:\n",
    "    if n >= 2 and n <= 5:\n",
    "        print(\"Not Weird\")\n",
    "    elif n >= 6 and n <= 10:\n",
    "        print(\"Weird\")\n",
    "    elif n > 20:\n",
    "        print(\"Not Weird\")"
   ]
  },
  {
   "cell_type": "markdown",
   "id": "e4bb7036",
   "metadata": {},
   "source": [
    "## task 7:"
   ]
  },
  {
   "cell_type": "code",
   "execution_count": 15,
   "id": "3c767bee",
   "metadata": {},
   "outputs": [
    {
     "name": "stdout",
     "output_type": "stream",
     "text": [
      "4\n",
      "0\n",
      "1\n",
      "4\n",
      "9\n"
     ]
    }
   ],
   "source": [
    "#The provided code stub reads an n = int(input())\n",
    "n = int(input())\n",
    "for i in range(0, n):\n",
    "    print(i ** 2)"
   ]
  }
 ],
 "metadata": {
  "kernelspec": {
   "display_name": "Python 3 (ipykernel)",
   "language": "python",
   "name": "python3"
  },
  "language_info": {
   "codemirror_mode": {
    "name": "ipython",
    "version": 3
   },
   "file_extension": ".py",
   "mimetype": "text/x-python",
   "name": "python",
   "nbconvert_exporter": "python",
   "pygments_lexer": "ipython3",
   "version": "3.9.12"
  }
 },
 "nbformat": 4,
 "nbformat_minor": 5
}
